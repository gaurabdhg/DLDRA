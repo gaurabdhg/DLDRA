{
  "cells": [
    {
      "cell_type": "code",
      "source": [
        "!pip install ase"
      ],
      "metadata": {
        "id": "EgafLT42CYyP"
      },
      "execution_count": null,
      "outputs": []
    },
    {
      "cell_type": "code",
      "source": [
        "import numpy as np\n",
        "import torch as th\n",
        "import ase\n",
        "from ase.cluster.cubic import FaceCenteredCubic\n",
        "import torch.nn.functional as F\n"
      ],
      "metadata": {
        "id": "SPGlgTM7B4R-"
      },
      "execution_count": null,
      "outputs": []
    },
    {
      "cell_type": "code",
      "source": [
        "def atomcell(layers):\n",
        "  surfaces = [(1, 0, 0), (1, 1, 0), (1, 1, 1)]\n",
        "  lc = 3.61000\n",
        "  # make a copper nanoparticle, you can change the layers to make it smaller or larger\n",
        "  atoms = FaceCenteredCubic('Cu', surfaces,layers, latticeconstant=lc)\n",
        "\n",
        "  coords = atoms.positions.copy().astype(np.float32)\n",
        "\n",
        "  coords -= coords.min(0)\n",
        "  coords -= coords.max(0) / 2\n"
      ],
      "metadata": {
        "id": "RH6KR_YUCeMS"
      },
      "execution_count": null,
      "outputs": []
    },
    {
      "cell_type": "code",
      "source": [
        "\n",
        "def affine_matrix_3D(phi, theta, psi, translation):\n",
        "\n",
        "    cph = th.cos(phi)\n",
        "    sph = th.sin(phi)\n",
        "    cth = th.cos(theta)\n",
        "    sth = th.sin(theta)\n",
        "    cps = th.cos(psi)\n",
        "    sps = th.sin(psi)\n",
        "    line1 = th.stack([cph * cps - sph * cth * sps, -cph *\n",
        "                     sps - sph * cth * cps, sph * sth, translation[0]], 1)\n",
        "    line2 = th.stack([sph * cps + cph * cth * sps, -sph *\n",
        "                     sps + cph * cth * cps, -cph * sth, translation[1]], 1)\n",
        "    line3 = th.stack([sth * sps + 0 * cph, sth * cps + 0 * cph, cth + 0 * (cph + cps), th.zeros_like(translation[1])],\n",
        "                     1)\n",
        "    R = th.stack([line1, line2, line3], 1)\n",
        "    return R\n"
      ],
      "metadata": {
        "id": "EH_jbLQQE4uT"
      },
      "execution_count": null,
      "outputs": []
    },
    {
      "cell_type": "code",
      "source": [
        "\n",
        "def exponential_integral_function(d, c, a):\n",
        "    #     f(x)= ae ^ {- \\frac {(x-b)^2} {2c^2}}\n",
        "    # a\t=\theight of the curve's peak\n",
        "    # b\t=\tthe position of the center of the peak\n",
        "\n",
        "    # c\t=\tthe standard deviation\n",
        "    # f(x)\t=\tfunction of x\n",
        "    # e\t=\tEuler's number\n",
        "    # x\t=\tinteger\n",
        "    return np.pi * th.abs(a) * th.exp(-d**2/c**2)\n"
      ],
      "metadata": {
        "id": "Y2vQd3SqF0Yy"
      },
      "execution_count": null,
      "outputs": []
    },
    {
      "cell_type": "code",
      "source": [
        "def ray_transform(vol, phi_rad, theta_rad, psi_rad, translation):\n",
        "    n_theta = phi_rad.shape[0]\n",
        "    R = affine_matrix_3D(phi_rad, theta_rad, psi_rad, translation)\n",
        "    out_size = (n_theta, 1, vol.shape[2], vol.shape[3], vol.shape[4])\n",
        "    grid = F.affine_grid(R, out_size)\n",
        "    out = F.grid_sample(vol.expand(\n",
        "        n_theta, 1, vol.shape[2], vol.shape[3], vol.shape[4]), grid)\n",
        "    # print(out.shape)\n",
        "    # out is (N_batch, channels, Z, Y, X)\n",
        "    sino = th.sum(out, 3)\n",
        "    return sino\n"
      ],
      "metadata": {
        "id": "z5epQ3gqEseP"
      },
      "execution_count": null,
      "outputs": []
    },
    {
      "cell_type": "code",
      "source": [
        "def project(points, phi, theta, psi, translation, param, FOV, image_pixels, integral_function=exponential_integral_function):\n",
        "\n",
        "    device=\"cuda\"\n",
        "    M = image_pixels\n",
        "    w0 = th.linspace(-FOV[1]/2, FOV[1]/2, M, device=device).float()\n",
        "    w1 = th.linspace(-FOV[2]/2, FOV[2]/2, M, device=device).float()\n",
        "    yy, xx = th.meshgrid(w0, w1)\n",
        "\n",
        "    pixel_intensity=th.zeros(phi.shape[0],M,M,device=device)\n",
        "\n",
        "    rays_start = th.zeros((4096, 3), device=device)\n",
        "    rays_end = th.zeros((4096, 3), device=device)\n",
        "\n",
        "    # z, y, x\n",
        "    rays_start[:, 0] = 0\n",
        "    rays_start[:, 1] = yy.ravel()\n",
        "    rays_start[:, 2] = xx.ravel()\n",
        "\n",
        "    rays_end[:, 0] = FOV[0]\n",
        "    rays_end[:, 1] = yy.ravel()\n",
        "    rays_end[:, 2] = xx.ravel()\n",
        "\n",
        "    rays = rays_end - rays_start\n",
        "\n",
        "    for id,_ in enumerate(phi):\n",
        "        R = affine_matrix_3D(phi[id:id+1], theta[id:id+1], psi[id:id+1],translation[:,id:id+1]).to(device)\n",
        "        point_cloud_rot = points @ R.squeeze()[:, :-1]\n",
        "\n",
        "        r_in_ray_system = point_cloud_rot[:,None, :] - rays_start[None, :, :]\n",
        "\n",
        "        ray_expanded = rays[None, :, :].expand_as(r_in_ray_system)\n",
        "\n",
        "        proj_onto_ray_part1 = th.cross(r_in_ray_system, ray_expanded,dim=-1)\n",
        "        proj_onto_ray_part2=th.norm(ray_expanded, dim=-1)[:, :, None]\n",
        "\n",
        "        proj_onto_ray=proj_onto_ray_part1/proj_onto_ray_part2\n",
        "\n",
        "        # n_theta, n_atom, M * M\n",
        "        distance = th.norm(proj_onto_ray, dim=-1)\n",
        "        # n_theta, n_atom, M * M\n",
        "        per_atom_intensity = integral_function(distance, param[0], param[1])\n",
        "        # n_theta, M, M\n",
        "        pixel_intensity[id] = th.sum(per_atom_intensity, 0).view(M, M)\n",
        "\n",
        "    return pixel_intensity\n"
      ],
      "metadata": {
        "id": "kRdnYMQuEgLN"
      },
      "execution_count": null,
      "outputs": []
    }
  ],
  "metadata": {
    "colab": {
      "provenance": []
    },
    "kernelspec": {
      "display_name": "Python 3",
      "name": "python3"
    }
  },
  "nbformat": 4,
  "nbformat_minor": 0
}